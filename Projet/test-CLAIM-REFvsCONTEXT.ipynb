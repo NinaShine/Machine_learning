{
 "cells": [
  {
   "cell_type": "code",
   "execution_count": 15,
   "id": "5c907e63-1ae7-4c8e-9399-a1983601a208",
   "metadata": {
    "scrolled": true
   },
   "outputs": [
    {
     "name": "stdout",
     "output_type": "stream",
     "text": [
      "Requirement already satisfied: nltk in /Users/salhinina/Desktop/mon_env/lib/python3.12/site-packages (3.9.1)\n",
      "Requirement already satisfied: click in /Users/salhinina/Desktop/mon_env/lib/python3.12/site-packages (from nltk) (8.1.8)\n",
      "Requirement already satisfied: joblib in /Users/salhinina/Desktop/mon_env/lib/python3.12/site-packages (from nltk) (1.4.2)\n",
      "Requirement already satisfied: regex>=2021.8.3 in /Users/salhinina/Desktop/mon_env/lib/python3.12/site-packages (from nltk) (2024.11.6)\n",
      "Requirement already satisfied: tqdm in /Users/salhinina/Desktop/mon_env/lib/python3.12/site-packages (from nltk) (4.67.1)\n",
      "\n",
      "\u001b[1m[\u001b[0m\u001b[34;49mnotice\u001b[0m\u001b[1;39;49m]\u001b[0m\u001b[39;49m A new release of pip is available: \u001b[0m\u001b[31;49m24.0\u001b[0m\u001b[39;49m -> \u001b[0m\u001b[32;49m25.0.1\u001b[0m\n",
      "\u001b[1m[\u001b[0m\u001b[34;49mnotice\u001b[0m\u001b[1;39;49m]\u001b[0m\u001b[39;49m To update, run: \u001b[0m\u001b[32;49mpip install --upgrade pip\u001b[0m\n"
     ]
    },
    {
     "name": "stderr",
     "output_type": "stream",
     "text": [
      "[nltk_data] Downloading package punkt to /Users/salhinina/nltk_data...\n",
      "[nltk_data]   Package punkt is already up-to-date!\n",
      "[nltk_data] Downloading package stopwords to\n",
      "[nltk_data]     /Users/salhinina/nltk_data...\n",
      "[nltk_data]   Package stopwords is already up-to-date!\n",
      "[nltk_data] Downloading package wordnet to\n",
      "[nltk_data]     /Users/salhinina/nltk_data...\n",
      "[nltk_data]   Package wordnet is already up-to-date!\n",
      "[nltk_data] Downloading package punkt to /Users/salhinina/Desktop/Mach\n",
      "[nltk_data]     ine_learning/Projet/nltk_data...\n",
      "[nltk_data]   Unzipping tokenizers/punkt.zip.\n",
      "[nltk_data] Downloading package stopwords to /Users/salhinina/Desktop/\n",
      "[nltk_data]     Machine_learning/Projet/nltk_data...\n",
      "[nltk_data]   Unzipping corpora/stopwords.zip.\n",
      "[nltk_data] Downloading package wordnet to /Users/salhinina/Desktop/Ma\n",
      "[nltk_data]     chine_learning/Projet/nltk_data...\n"
     ]
    },
    {
     "data": {
      "text/plain": [
       "True"
      ]
     },
     "execution_count": 15,
     "metadata": {},
     "output_type": "execute_result"
    }
   ],
   "source": [
    "!pip install nltk\n",
    "\n",
    "import pandas as pd\n",
    "import numpy as np\n",
    "import matplotlib.pyplot as plt\n",
    "import seaborn as sns\n",
    "\n",
    "from sklearn.model_selection import train_test_split, cross_val_score\n",
    "from sklearn.pipeline import Pipeline\n",
    "from sklearn.preprocessing import StandardScaler\n",
    "from sklearn.feature_extraction.text import TfidfVectorizer\n",
    "from sklearn.metrics import classification_report, confusion_matrix\n",
    "\n",
    "from sklearn.linear_model import LogisticRegression\n",
    "from sklearn.naive_bayes import MultinomialNB\n",
    "from sklearn.svm import SVC\n",
    "\n",
    "import nltk\n",
    "from nltk.corpus import stopwords\n",
    "from nltk.stem import WordNetLemmatizer\n",
    "from nltk.tokenize import word_tokenize\n",
    "import re\n",
    "import string\n",
    "\n",
    "nltk.download('punkt')\n",
    "nltk.download('stopwords')\n",
    "nltk.download('wordnet')\n",
    "\n",
    "\n",
    "import os\n",
    "\n",
    "# Création d'un répertoire local au cas où les chemins par défaut posent problème\n",
    "nltk_data_dir = os.path.join(os.getcwd(), \"nltk_data\")\n",
    "os.makedirs(nltk_data_dir, exist_ok=True)\n",
    "\n",
    "# Ajout manuel au chemin\n",
    "nltk.data.path.append(nltk_data_dir)\n",
    "\n",
    "# Téléchargements des ressources nécessaires dans le bon répertoire\n",
    "nltk.download(\"punkt\", download_dir=nltk_data_dir)\n",
    "nltk.download(\"stopwords\", download_dir=nltk_data_dir)\n",
    "nltk.download(\"wordnet\", download_dir=nltk_data_dir)\n",
    "\n"
   ]
  },
  {
   "cell_type": "code",
   "execution_count": 50,
   "id": "7c89dc38-4875-4aa4-99aa-cbcbfb25cca1",
   "metadata": {},
   "outputs": [
    {
     "data": {
      "text/html": [
       "<div>\n",
       "<style scoped>\n",
       "    .dataframe tbody tr th:only-of-type {\n",
       "        vertical-align: middle;\n",
       "    }\n",
       "\n",
       "    .dataframe tbody tr th {\n",
       "        vertical-align: top;\n",
       "    }\n",
       "\n",
       "    .dataframe thead th {\n",
       "        text-align: right;\n",
       "    }\n",
       "</style>\n",
       "<table border=\"1\" class=\"dataframe\">\n",
       "  <thead>\n",
       "    <tr style=\"text-align: right;\">\n",
       "      <th></th>\n",
       "      <th>Unnamed: 0</th>\n",
       "      <th>tweet_id</th>\n",
       "      <th>text</th>\n",
       "      <th>science_related</th>\n",
       "      <th>scientific_claim</th>\n",
       "      <th>scientific_reference</th>\n",
       "      <th>scientific_context</th>\n",
       "    </tr>\n",
       "  </thead>\n",
       "  <tbody>\n",
       "    <tr>\n",
       "      <th>0</th>\n",
       "      <td>0</td>\n",
       "      <td>316669998137483264</td>\n",
       "      <td>Knees are a bit sore. i guess that's a sign th...</td>\n",
       "      <td>0</td>\n",
       "      <td>0.0</td>\n",
       "      <td>0.0</td>\n",
       "      <td>0.0</td>\n",
       "    </tr>\n",
       "    <tr>\n",
       "      <th>1</th>\n",
       "      <td>1</td>\n",
       "      <td>319090866545385472</td>\n",
       "      <td>McDonald's breakfast stop then the gym 🏀💪</td>\n",
       "      <td>0</td>\n",
       "      <td>0.0</td>\n",
       "      <td>0.0</td>\n",
       "      <td>0.0</td>\n",
       "    </tr>\n",
       "    <tr>\n",
       "      <th>2</th>\n",
       "      <td>2</td>\n",
       "      <td>322030931022065664</td>\n",
       "      <td>Can any Gynecologist with Cancer Experience ex...</td>\n",
       "      <td>1</td>\n",
       "      <td>1.0</td>\n",
       "      <td>0.0</td>\n",
       "      <td>0.0</td>\n",
       "    </tr>\n",
       "    <tr>\n",
       "      <th>3</th>\n",
       "      <td>3</td>\n",
       "      <td>322694830620807168</td>\n",
       "      <td>Couch-lock highs lead to sleeping in the couch...</td>\n",
       "      <td>1</td>\n",
       "      <td>1.0</td>\n",
       "      <td>0.0</td>\n",
       "      <td>0.0</td>\n",
       "    </tr>\n",
       "    <tr>\n",
       "      <th>4</th>\n",
       "      <td>4</td>\n",
       "      <td>328524426658328576</td>\n",
       "      <td>Does daily routine help prevent problems with ...</td>\n",
       "      <td>1</td>\n",
       "      <td>1.0</td>\n",
       "      <td>0.0</td>\n",
       "      <td>0.0</td>\n",
       "    </tr>\n",
       "  </tbody>\n",
       "</table>\n",
       "</div>"
      ],
      "text/plain": [
       "   Unnamed: 0            tweet_id  \\\n",
       "0           0  316669998137483264   \n",
       "1           1  319090866545385472   \n",
       "2           2  322030931022065664   \n",
       "3           3  322694830620807168   \n",
       "4           4  328524426658328576   \n",
       "\n",
       "                                                text  science_related  \\\n",
       "0  Knees are a bit sore. i guess that's a sign th...                0   \n",
       "1          McDonald's breakfast stop then the gym 🏀💪                0   \n",
       "2  Can any Gynecologist with Cancer Experience ex...                1   \n",
       "3  Couch-lock highs lead to sleeping in the couch...                1   \n",
       "4  Does daily routine help prevent problems with ...                1   \n",
       "\n",
       "   scientific_claim  scientific_reference  scientific_context  \n",
       "0               0.0                   0.0                 0.0  \n",
       "1               0.0                   0.0                 0.0  \n",
       "2               1.0                   0.0                 0.0  \n",
       "3               1.0                   0.0                 0.0  \n",
       "4               1.0                   0.0                 0.0  "
      ]
     },
     "metadata": {},
     "output_type": "display_data"
    },
    {
     "name": "stdout",
     "output_type": "stream",
     "text": [
      "Nombre total de lignes : 1140\n"
     ]
    }
   ],
   "source": [
    "df=pd.read_csv('scitweets_export.tsv', sep='\\t')\n",
    "display (df.head())\n",
    "print(\"Nombre total de lignes :\", len(df))"
   ]
  },
  {
   "cell_type": "code",
   "execution_count": 30,
   "id": "819e3b41-95bd-484d-9785-9fd6038da781",
   "metadata": {},
   "outputs": [],
   "source": [
    "#-------------------------------\n",
    "#----Analyse du jeu de données – partie scientifique uniquement--------\n",
    "#------------------------------"
   ]
  },
  {
   "cell_type": "code",
   "execution_count": 52,
   "id": "ee8167e6-d115-4dad-9d26-a9274d67ab0b",
   "metadata": {},
   "outputs": [
    {
     "name": "stdout",
     "output_type": "stream",
     "text": [
      "Nombre de lignes scientifiques : 375\n",
      "\n",
      "Occurrences parmi les scientifiques :\n",
      "- CLAIM uniquement : 124\n",
      "- REF uniquement : 0\n",
      "- CLAIM + REF : 124\n",
      "- CONTEXT uniquement : 33\n"
     ]
    },
    {
     "data": {
      "image/png": "[encoded data removed]",
      "text/plain": [
       "<Figure size 1000x600 with 1 Axes>"
      ]
     },
     "metadata": {},
     "output_type": "display_data"
    }
   ],
   "source": [
    "# 3. Filtrer les lignes scientifiques\n",
    "df_sci = df[df[\"science_related\"] == 1]\n",
    "print(\"Nombre de lignes scientifiques :\", len(df_sci))\n",
    "\n",
    "# 4. Détailler les sous-catégories parmi les scientifiques\n",
    "\n",
    "# a. CLAIM uniquement\n",
    "claim_only = df_sci[(df_sci[\"scientific_claim\"] == 1.0) &\n",
    "                    (df_sci[\"scientific_reference\"] == 0.0) &\n",
    "                    (df_sci[\"scientific_context\"] == 0.0)]\n",
    "\n",
    "# b. REF uniquement\n",
    "ref_only = df_sci[(df_sci[\"scientific_reference\"] == 1.0) &\n",
    "                  (df_sci[\"scientific_claim\"] == 0.0) &\n",
    "                  (df_sci[\"scientific_context\"] == 0.0)]\n",
    "\n",
    "# c. CLAIM + REF\n",
    "claim_ref = df_sci[(df_sci[\"scientific_claim\"] == 1.0) &\n",
    "                   (df_sci[\"scientific_reference\"] == 1.0)]\n",
    "\n",
    "# d. CONTEXT uniquement\n",
    "context_only = df_sci[(df_sci[\"scientific_context\"] == 1.0) &\n",
    "                      (df_sci[\"scientific_claim\"] == 0.0) &\n",
    "                      (df_sci[\"scientific_reference\"] == 0.0)]\n",
    "\n",
    "# 5. Afficher les résultats\n",
    "print(\"\\nOccurrences parmi les scientifiques :\")\n",
    "print(\"- CLAIM uniquement :\", len(claim_only))\n",
    "print(\"- REF uniquement :\", len(ref_only))\n",
    "print(\"- CLAIM + REF :\", len(claim_ref))\n",
    "print(\"- CONTEXT uniquement :\", len(context_only))\n",
    "\n",
    "# 4. Création du dictionnaire de comptage\n",
    "counts = {\n",
    "    \"CLAIM uniquement\": len(claim_only),\n",
    "    \"REF uniquement\": len(ref_only),\n",
    "    \"CLAIM + REF\": len(claim_ref),\n",
    "    \"CONTEXT uniquement\": len(context_only)\n",
    "}\n",
    "\n",
    "# 5. Création du DataFrame pour affichage\n",
    "df_counts = pd.DataFrame(list(counts.items()), columns=[\"Catégorie\", \"Nombre\"])\n",
    "\n",
    "# 6. Affichage graphique\n",
    "plt.figure(figsize=(10,6))\n",
    "bars = plt.bar(df_counts[\"Catégorie\"], df_counts[\"Nombre\"], color=[\"#4C72B0\", \"#55A868\", \"#C44E52\", \"#8172B3\"])\n",
    "plt.title(\"Répartition des types d'assertions scientifiques\", fontsize=14)\n",
    "plt.xlabel(\"Type d'assertion\", fontsize=12)\n",
    "plt.ylabel(\"Nombre de tweets\", fontsize=12)\n",
    "plt.xticks(rotation=15)\n",
    "plt.grid(axis='y', linestyle='--', alpha=0.7)\n",
    "\n",
    "# 7. Afficher les valeurs sur les barres\n",
    "for bar in bars:\n",
    "    yval = bar.get_height()\n",
    "    plt.text(bar.get_x() + bar.get_width()/2, yval + 5, int(yval), ha='center', va='bottom', fontsize=10)\n",
    "\n",
    "plt.tight_layout()\n",
    "plt.show()\n"
   ]
  },
  {
   "cell_type": "code",
   "execution_count": null,
   "id": "d1257b22-8951-4b20-a18d-f81d52539ca7",
   "metadata": {},
   "outputs": [],
   "source": [
    "#----------------------------------------------\n",
    "#-----------------Reequilibrage de donnees -----------------------------\n",
    "#----------------------------------------------"
   ]
  },
  {
   "cell_type": "code",
   "execution_count": 54,
   "id": "0af1f76b-b168-4d9c-b96c-cbbf8e41defc",
   "metadata": {},
   "outputs": [
    {
     "name": "stdout",
     "output_type": "stream",
     "text": [
      "Avant équilibrage :\n",
      "CLAIM/REF : 124\n",
      "CONTEXT   : 33\n",
      "\n",
      "Après équilibrage :\n",
      "CLAIM/REF : 124\n",
      "CONTEXT (upsampled) : 124\n",
      "Total lignes : 248\n"
     ]
    }
   ],
   "source": [
    "# ➤ Classe CONTEXT uniquement (scientific_context == 1.0 et claim & ref == 0.0)\n",
    "df_context = df_sci[\n",
    "    (df_sci[\"scientific_context\"] == 1.0) &\n",
    "    (df_sci[\"scientific_claim\"] == 0.0) &\n",
    "    (df_sci[\"scientific_reference\"] == 0.0)\n",
    "]\n",
    "\n",
    "# ➤ Classe CLAIM/REF (claim == 1.0 ou ref == 1.0), SANS context == 1.0\n",
    "df_claim_ref = df_sci[\n",
    "    ((df_sci[\"scientific_claim\"] == 1.0) | (df_sci[\"scientific_reference\"] == 1.0)) &\n",
    "    (df_sci[\"scientific_context\"] == 0.0)\n",
    "]\n",
    "\n",
    "# 4. Vérification du déséquilibre initial\n",
    "print(\"Avant équilibrage :\")\n",
    "print(\"CLAIM/REF :\", len(df_claim_ref))\n",
    "print(\"CONTEXT   :\", len(df_context))\n",
    "\n",
    "# 5. Upsampling de CONTEXT vers la taille de CLAIM/REF\n",
    "df_context_upsampled = resample(\n",
    "    df_context,\n",
    "    replace=True,\n",
    "    n_samples=len(df_claim_ref),\n",
    "    random_state=42\n",
    ")\n",
    "\n",
    "# 6. Fusion des deux sous-ensembles équilibrés\n",
    "df_balanced = pd.concat([df_claim_ref, df_context_upsampled])\n",
    "\n",
    "# 7. Vérification finale\n",
    "print(\"\\nAprès équilibrage :\")\n",
    "print(\"CLAIM/REF :\", len(df_claim_ref))\n",
    "print(\"CONTEXT (upsampled) :\", len(df_context_upsampled))\n",
    "print(\"Total lignes :\", len(df_balanced))\n"
   ]
  },
  {
   "cell_type": "code",
   "execution_count": 18,
   "id": "54e2d834-d5b5-4970-86f3-8a182b9ca417",
   "metadata": {},
   "outputs": [],
   "source": [
    "#-------------------------------\n",
    "#----Formatage du jeu de données pour la tâche {CLAIM, REF} vs. CONTEXT--------\n",
    "#------------------------------"
   ]
  },
  {
   "cell_type": "code",
   "execution_count": 35,
   "id": "94ea6438-7698-4395-8b3d-b802a58d9ff7",
   "metadata": {},
   "outputs": [
    {
     "data": {
      "text/plain": [
       "label\n",
       "1    124\n",
       "0     33\n",
       "Name: count, dtype: int64"
      ]
     },
     "execution_count": 35,
     "metadata": {},
     "output_type": "execute_result"
    }
   ],
   "source": [
    "# Garder uniquement les tweets avec CLAIM, REF, ou CONTEXT\n",
    "df_sci = df_sci[\n",
    "    (df_sci[\"scientific_claim\"] == 1.0) |\n",
    "    (df_sci[\"scientific_reference\"] == 1.0) |\n",
    "    (df_sci[\"scientific_context\"] == 1.0)\n",
    "]\n",
    "\n",
    "# Supprimer les cas mixtes (contenant à la fois CLAIM/REF et CONTEXT)\n",
    "df_sci = df_sci[~(\n",
    "    (df_sci[\"scientific_context\"] == 1.0) &\n",
    "    ((df_sci[\"scientific_claim\"] == 1.0) | (df_sci[\"scientific_reference\"] == 1.0))\n",
    ")]\n",
    "\n",
    "# Créer la variable cible binaire : 1 = CLAIM ou REF, 0 = CONTEXT\n",
    "df_sci[\"label\"] = ((df_sci[\"scientific_claim\"] == 1.0) | (df_sci[\"scientific_reference\"] == 1.0)).astype(int)\n",
    "\n",
    "# Afficher la distribution\n",
    "df_sci[\"label\"].value_counts()\n"
   ]
  },
  {
   "cell_type": "code",
   "execution_count": 48,
   "id": "c04b91d9-7c28-4e8d-9d55-11ef413cc154",
   "metadata": {},
   "outputs": [
    {
     "name": "stdout",
     "output_type": "stream",
     "text": [
      "Nombre d'occurrences par classe (0 = CONTEXT, 1 = CLAIM/REF) :\n",
      "\n",
      "label\n",
      "1    124\n",
      "0     33\n",
      "Name: count, dtype: int64\n",
      "\n",
      "Shape: (157, 9)\n"
     ]
    },
    {
     "name": "stderr",
     "output_type": "stream",
     "text": [
      "/var/folders/pf/x8z57h4121s6cmtp02twbdd00000gn/T/ipykernel_84738/4005419574.py:14: FutureWarning: \n",
      "\n",
      "Passing `palette` without assigning `hue` is deprecated and will be removed in v0.14.0. Assign the `x` variable to `hue` and set `legend=False` for the same effect.\n",
      "\n",
      "  plot = sb.countplot(x='label', data=dataFile, palette='pastel')\n",
      "/var/folders/pf/x8z57h4121s6cmtp02twbdd00000gn/T/ipykernel_84738/4005419574.py:15: UserWarning: set_ticklabels() should only be used with a fixed number of ticks, i.e. after set_ticks() or using a FixedLocator.\n",
      "  plot.set_xticklabels(['CONTEXT (0)', 'CLAIM/REF (1)'])\n"
     ]
    },
    {
     "data": {
      "image/png": "[encoded data removed]",
      "text/plain": [
       "<Figure size 640x480 with 1 Axes>"
      ]
     },
     "metadata": {},
     "output_type": "display_data"
    }
   ],
   "source": [
    "import seaborn as sb\n",
    "import matplotlib.pyplot as plt\n",
    "\n",
    "# 1. Afficher les occurrences par classe\n",
    "print(\"Nombre d'occurrences par classe (0 = CONTEXT, 1 = CLAIM/REF) :\\n\")\n",
    "print(df_sci['label'].value_counts())\n",
    "\n",
    "# 2. Afficher la forme du dataset\n",
    "print(\"\\nShape:\", df_sci.shape)\n",
    "\n",
    "# 3. Fonction pour créer une distribution avec seaborn\n",
    "def create_distribution(dataFile):\n",
    "    sb.set_style(\"whitegrid\")\n",
    "    plot = sb.countplot(x='label', data=dataFile, palette='pastel')\n",
    "    plot.set_xticklabels(['CONTEXT (0)', 'CLAIM/REF (1)'])\n",
    "    plt.title(\"Répartition des classes dans les données SCI\")\n",
    "    plt.xlabel(\"Classe\")\n",
    "    plt.ylabel(\"Nombre d'occurrences\")\n",
    "    plt.show()\n",
    "\n",
    "# 4. Appel de la fonction\n",
    "create_distribution(df_sci)\n"
   ]
  },
  {
   "cell_type": "code",
   "execution_count": 55,
   "id": "8043bf6e-d6e3-4b21-ae9c-71a991c460a3",
   "metadata": {},
   "outputs": [
    {
     "name": "stdout",
     "output_type": "stream",
     "text": [
      "Avant équilibrage :\n",
      "CLAIM/REF : 124\n",
      "CONTEXT   : 33\n",
      "\n",
      "Après équilibrage :\n",
      "CLAIM/REF : 124\n",
      "CONTEXT (upsampled) : 124\n",
      "Total lignes : 248\n"
     ]
    }
   ],
   "source": [
    "# ➤ Classe CONTEXT uniquement (scientific_context == 1.0 et claim & ref == 0.0)\n",
    "df_context = df_sci[\n",
    "    (df_sci[\"scientific_context\"] == 1.0) &\n",
    "    (df_sci[\"scientific_claim\"] == 0.0) &\n",
    "    (df_sci[\"scientific_reference\"] == 0.0)\n",
    "]\n",
    "\n",
    "# ➤ Classe CLAIM/REF (claim == 1.0 ou ref == 1.0), SANS context == 1.0\n",
    "df_claim_ref = df_sci[\n",
    "    ((df_sci[\"scientific_claim\"] == 1.0) | (df_sci[\"scientific_reference\"] == 1.0)) &\n",
    "    (df_sci[\"scientific_context\"] == 0.0)\n",
    "]\n",
    "\n",
    "# 4. Vérification du déséquilibre initial\n",
    "print(\"Avant équilibrage :\")\n",
    "print(\"CLAIM/REF :\", len(df_claim_ref))\n",
    "print(\"CONTEXT   :\", len(df_context))\n",
    "\n",
    "# 5. Upsampling de CONTEXT vers la taille de CLAIM/REF\n",
    "df_context_upsampled = resample(\n",
    "    df_context,\n",
    "    replace=True,\n",
    "    n_samples=len(df_claim_ref),\n",
    "    random_state=42\n",
    ")\n",
    "\n",
    "# 6. Fusion des deux sous-ensembles équilibrés\n",
    "df_balanced = pd.concat([df_claim_ref, df_context_upsampled])\n",
    "\n",
    "# 7. Vérification finale\n",
    "print(\"\\nAprès équilibrage :\")\n",
    "print(\"CLAIM/REF :\", len(df_claim_ref))\n",
    "print(\"CONTEXT (upsampled) :\", len(df_context_upsampled))\n",
    "print(\"Total lignes :\", len(df_balanced))"
   ]
  },
  {
   "cell_type": "code",
   "execution_count": null,
   "id": "c695ed2c-0826-4bb2-bc5b-e8f84c7bb071",
   "metadata": {},
   "outputs": [],
   "source": [
    "#-------------------------------\n",
    "#----Nettoyage + normalisation du texte--------\n",
    "#------------------------------"
   ]
  },
  {
   "cell_type": "code",
   "execution_count": 40,
   "id": "6b1c678d-4095-4a74-a7ce-d63d95398b05",
   "metadata": {},
   "outputs": [
    {
     "data": {
      "text/plain": [
       "2       can any gynecologist with cancer experience ex...\n",
       "3       couchlock highs lead to sleeping in the couch ...\n",
       "4       does daily routine help prevent problems with ...\n",
       "7       can playing more games improve lives and save ...\n",
       "14      MENTION MENTION MENTION pls support nih fundin...\n",
       "                              ...                        \n",
       "1109    MENTION my question is how many of these death...\n",
       "1112    the covid19 pandemic is not over incorrect inf...\n",
       "1130    this looks like a great opportunity to get res...\n",
       "1131    highly prestigious and competitive awards fund...\n",
       "1135    MENTION MENTION im sorry but we do not have 14...\n",
       "Name: clean_text, Length: 157, dtype: object"
      ]
     },
     "execution_count": 40,
     "metadata": {},
     "output_type": "execute_result"
    }
   ],
   "source": [
    "import re\n",
    "\n",
    "def clean_text(text):\n",
    "    text = text.lower()\n",
    "    text = re.sub(r\"http\\S+\", \"URL\", text)        # Remplace les liens par \"URL\"\n",
    "    text = re.sub(r\"@\\w+\", \"MENTION\", text)       # Remplace les mentions par \"MENTION\"\n",
    "    text = re.sub(r\"#(\\w+)\", r\"\\1\", text)         # Supprime juste le #\n",
    "    text = re.sub(r\"[^\\w\\s]\", \"\", text)           # Supprime la ponctuation\n",
    "    text = re.sub(r\"\\s+\", \" \", text).strip()      # Supprime les espaces multiples\n",
    "    return text\n",
    "    \n",
    "df_sci[\"clean_text\"] = df_sci[\"text\"].apply(clean_text)\n",
    "df_sci[\"clean_text\"]"
   ]
  },
  {
   "cell_type": "code",
   "execution_count": null,
   "id": "152e1765-2b9d-442c-bb8c-0ff787e2f451",
   "metadata": {
    "scrolled": true
   },
   "outputs": [],
   "source": [
    "\n"
   ]
  },
  {
   "cell_type": "code",
   "execution_count": null,
   "id": "fccb41c7-3744-45d7-96d6-95bf0ebea36c",
   "metadata": {},
   "outputs": [],
   "source": []
  }
 ],
 "metadata": {
  "kernelspec": {
   "display_name": "Python 3 (ipykernel)",
   "language": "python",
   "name": "python3"
  },
  "language_info": {
   "codemirror_mode": {
    "name": "ipython",
    "version": 3
   },
   "file_extension": ".py",
   "mimetype": "text/x-python",
   "name": "python",
   "nbconvert_exporter": "python",
   "pygments_lexer": "ipython3",
   "version": "3.10.12"
  }
 },
 "nbformat": 4,
 "nbformat_minor": 5
}
